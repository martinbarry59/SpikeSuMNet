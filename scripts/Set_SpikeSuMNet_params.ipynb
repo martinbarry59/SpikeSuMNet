{
 "cells": [
  {
   "cell_type": "code",
   "execution_count": 7,
   "metadata": {},
   "outputs": [],
   "source": [
    "import pickle \n",
    "\n",
    "params_fas = {}\n",
    "params_fas['number_rooms'] = 16\n",
    "params_fas['EI_neurons'] = 128\n",
    "params_fas['input_neurons'] = 128\n",
    "params_fas['tau'] = 10\n",
    "\n",
    "params_fas['eta1'] = 1.6704837372464847e-05\n",
    "params_fas['eta2'] = 0.011590042781509897\n",
    "params_fas['theta'] = 0.6\n",
    "params_fas['N'] = 10\n",
    "params_fas['Poisson_rate'] = .1\n",
    "params_fas['Poisson_rate_error'] = 0#.0001\n",
    "params_fas['plot'] = False\n",
    "params_fas['modulation'] = 'full' # full,single,step,None\n",
    "params_fas['random_projection'] = False\n",
    "params_fas['tau'] = 10\n",
    "params_fas['W'] = None\n",
    "params_fas[\"l\"] = 4\n",
    "params_fas['FB_inhib'] = 40\n",
    "params_selector = {}\n",
    "params_selector[\"input_shape\"] = params_fas['EI_neurons']\n",
    "params_selector[\"msp_neurons\"] = 1\n",
    "params_selector[\"l\"] = 4\n",
    "params_selector[\"tau\"] = 10\n",
    "params_selector[\"r\"]  = 2\n",
    "params_selector[\"self_inhib\"] = .5\n",
    "params_selector[\"module_inhib\"] = 22\n",
    "params_selector[\"wta_speed\"] = 0.05\n",
    "params_selector[\"lr_msp\"] = 0.1\n",
    "params_selector[\"alpha_p\"] = 1e-6\n",
    "params_selector[\"plot\"] = True\n",
    "params_selector[\"external_current\"] = 1\n",
    "params_selector[\"beta\"] = 0.25\n",
    "params = {}\n",
    "params['T_pres'] = 100\n",
    "params['n_memory'] = 1\n",
    "params['plot'] = False\n",
    "params['print'] = False\n",
    "params['fasnet_module'] = params_fas\n",
    "params['selector_module'] = params_selector"
   ]
  },
  {
   "cell_type": "code",
   "execution_count": 8,
   "metadata": {},
   "outputs": [],
   "source": [
    "with open('params_network.pkl', 'wb') as f:\n",
    "        pickle.dump(params, f, pickle.HIGHEST_PROTOCOL)"
   ]
  }
 ],
 "metadata": {
  "kernelspec": {
   "display_name": "Python 3",
   "language": "python",
   "name": "python3"
  },
  "language_info": {
   "codemirror_mode": {
    "name": "ipython",
    "version": 3
   },
   "file_extension": ".py",
   "mimetype": "text/x-python",
   "name": "python",
   "nbconvert_exporter": "python",
   "pygments_lexer": "ipython3",
   "version": "3.6.9"
  }
 },
 "nbformat": 4,
 "nbformat_minor": 2
}
