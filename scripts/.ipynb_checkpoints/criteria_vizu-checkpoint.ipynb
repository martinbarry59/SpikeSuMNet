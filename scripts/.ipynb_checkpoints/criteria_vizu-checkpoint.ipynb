{
 "cells": [
  {
   "cell_type": "code",
   "execution_count": 1,
   "metadata": {},
   "outputs": [],
   "source": [
    "import torch\n",
    "import numpy as np\n",
    "import os\n",
    "import sys\n",
    "import torch\n",
    "path = '../'\n",
    "sys.path.insert(1, '{0}/pkg/'.format(path))"
   ]
  },
  {
   "cell_type": "code",
   "execution_count": 2,
   "metadata": {},
   "outputs": [
    {
     "ename": "NameError",
     "evalue": "name 'criteria' is not defined",
     "output_type": "error",
     "traceback": [
      "\u001b[0;31m---------------------------------------------------------------------------\u001b[0m",
      "\u001b[0;31mNameError\u001b[0m                                 Traceback (most recent call last)",
      "\u001b[0;32m<ipython-input-2-b618da6952cd>\u001b[0m in \u001b[0;36m<module>\u001b[0;34m\u001b[0m\n\u001b[0;32m----> 1\u001b[0;31m \u001b[0mprint\u001b[0m\u001b[0;34m(\u001b[0m\u001b[0mlen\u001b[0m\u001b[0;34m(\u001b[0m\u001b[0mcriteria\u001b[0m\u001b[0;34m)\u001b[0m\u001b[0;34m)\u001b[0m\u001b[0;34m\u001b[0m\u001b[0;34m\u001b[0m\u001b[0m\n\u001b[0m",
      "\u001b[0;31mNameError\u001b[0m: name 'criteria' is not defined"
     ]
    }
   ],
   "source": [
    "\n",
    "print(len(criteria))"
   ]
  },
  {
   "cell_type": "code",
   "execution_count": 2,
   "metadata": {},
   "outputs": [],
   "source": []
  },
  {
   "cell_type": "code",
   "execution_count": 3,
   "metadata": {},
   "outputs": [
    {
     "ename": "NameError",
     "evalue": "name 'print_criteria' is not defined",
     "output_type": "error",
     "traceback": [
      "\u001b[0;31m---------------------------------------------------------------------------\u001b[0m",
      "\u001b[0;31mNameError\u001b[0m                                 Traceback (most recent call last)",
      "\u001b[0;32m<ipython-input-3-68cc01f5b310>\u001b[0m in \u001b[0;36m<module>\u001b[0;34m\u001b[0m\n\u001b[1;32m      1\u001b[0m \u001b[0mvolatility\u001b[0m \u001b[0;34m=\u001b[0m \u001b[0;36m0.0005\u001b[0m\u001b[0;34m\u001b[0m\u001b[0;34m\u001b[0m\u001b[0m\n\u001b[1;32m      2\u001b[0m \u001b[0mbatch\u001b[0m \u001b[0;34m=\u001b[0m \u001b[0;36m100\u001b[0m\u001b[0;34m\u001b[0m\u001b[0;34m\u001b[0m\u001b[0m\n\u001b[0;32m----> 3\u001b[0;31m \u001b[0mprint_criteria\u001b[0m\u001b[0;34m(\u001b[0m\u001b[0;34m'../results/criteria_move_2_H_{0}_batch_{1}'\u001b[0m\u001b[0;34m.\u001b[0m\u001b[0mformat\u001b[0m\u001b[0;34m(\u001b[0m\u001b[0mvolatility\u001b[0m\u001b[0;34m,\u001b[0m\u001b[0mbatch\u001b[0m\u001b[0;34m)\u001b[0m\u001b[0;34m)\u001b[0m\u001b[0;34m\u001b[0m\u001b[0;34m\u001b[0m\u001b[0m\n\u001b[0m",
      "\u001b[0;31mNameError\u001b[0m: name 'print_criteria' is not defined"
     ]
    }
   ],
   "source": [
    "volatility = 0.0005\n",
    "batch = 100\n",
    "print_criteria('../results/criteria_move_2_H_{0}_batch_{1}'.format(volatility,batch))"
   ]
  },
  {
   "cell_type": "code",
   "execution_count": 4,
   "metadata": {},
   "outputs": [
    {
     "name": "stdout",
     "output_type": "stream",
     "text": [
      "---Network parameters---\n",
      "batch_size: 1\n",
      "------------------------\n",
      "n_memory: 5\n",
      "------------------------\n",
      "plot: True\n",
      "------------------------\n",
      "print: True\n",
      "------------------------\n",
      "selector_module :\n",
      "   alpha_p: 1e-06\n",
      "   beta: 0.05\n",
      "   external_current: 1\n",
      "   input_shape: 128\n",
      "   l: 4\n",
      "   lr_msp: 0.0005\n",
      "   max_commitment: 0.072\n",
      "   module_inhib: 20\n",
      "   msp_neurons: 20\n",
      "   plot: True\n",
      "   Poisson_rate: 0.1\n",
      "   r: 0.3\n",
      "   self_inhib: 4\n",
      "   tau: 10\n",
      "   wta_speed: 0.05\n",
      "------------------------\n",
      "SpikeSuM_module :\n",
      "   EI_neurons: 128\n",
      "   Ei_neurons: 512\n",
      "   eta1: 1e-06\n",
      "   eta2: 0.002\n",
      "   FB_inhib: 40\n",
      "   input_neurons: 128\n",
      "   l: 4\n",
      "   modulation: full\n",
      "   N: 10\n",
      "   number_rooms: 16\n",
      "   plot: True\n",
      "   Poisson_rate: 0.2\n",
      "   Poisson_rate_error: 0\n",
      "   random_projection: False\n",
      "   tau: 10\n",
      "   theta: 0.5\n",
      "   W: None\n",
      "   W_init: 40\n",
      "------------------------\n",
      "T_pres: 100\n",
      "------------------------\n"
     ]
    }
   ],
   "source": [
    "import pickle\n",
    "import os\n",
    "import sys\n",
    "path = '../'\n",
    "sys.path.insert(1, '{0}/pkg/'.format(path))\n",
    "import SpikeSuMM_utils as utils\n",
    "device = torch.device(\"cuda:0\" if torch.cuda.is_available() else \"cpu\")\n",
    "infos = []\n",
    "deter_start = None\n",
    "number_rooms = 16\n",
    "n_moves = 2\n",
    "n_maze = 4\n",
    "volatility = 0.0005\n",
    "epochs = 10000\n",
    "batch_size = 1\n",
    "params_path = 'params_network_n_moves_{0}_H_{1}.pkl'.format(n_moves, volatility)\n",
    "with open(params_path, 'rb') as f:\n",
    "        params= pickle.load(f)\n",
    "utils.nice_print(params)"
   ]
  }
 ],
 "metadata": {
  "kernelspec": {
   "display_name": "Python 3",
   "language": "python",
   "name": "python3"
  },
  "language_info": {
   "codemirror_mode": {
    "name": "ipython",
    "version": 3
   },
   "file_extension": ".py",
   "mimetype": "text/x-python",
   "name": "python",
   "nbconvert_exporter": "python",
   "pygments_lexer": "ipython3",
   "version": "3.7.6"
  }
 },
 "nbformat": 4,
 "nbformat_minor": 4
}
