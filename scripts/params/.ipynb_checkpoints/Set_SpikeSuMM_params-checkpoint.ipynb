{
 "cells": [
  {
   "cell_type": "code",
   "execution_count": 1,
   "metadata": {},
   "outputs": [],
   "source": [
    "import pickle \n",
    "\n",
    "params_SPIKESUM = {}\n",
    "params_SPIKESUM['number_rooms'] = 16\n",
    "params_SPIKESUM['EI_neurons'] = 512\n",
    "params_SPIKESUM['input_neurons'] = 128\n",
    "params_SPIKESUM['tau'] = 10\n",
    "\n",
    "params_SPIKESUM['eta1'] = 1e-6\n",
    "params_SPIKESUM['eta2'] = 0.002\n",
    "params_SPIKESUM['theta'] = 0.5\n",
    "params_SPIKESUM['N'] = 10\n",
    "params_SPIKESUM['Poisson_rate'] = .2\n",
    "params_SPIKESUM['Poisson_rate_error'] = 0#.0001\n",
    "params_SPIKESUM['plot'] = False\n",
    "params_SPIKESUM['modulation'] = 'full' # full,single,step,None\n",
    "params_SPIKESUM['random_projection'] = False\n",
    "params_SPIKESUM['tau'] = 10\n",
    "params_SPIKESUM['W'] = None\n",
    "params_SPIKESUM[\"l\"] = 4\n",
    "params_SPIKESUM['FB_inhib'] = 40\n",
    "params_selector = {}\n",
    "params_selector[\"input_shape\"] = params_SPIKESUM['EI_neurons']\n",
    "params_selector[\"msp_neurons\"] = 20\n",
    "params_selector[\"l\"] = 4\n",
    "params_selector[\"tau\"] = 10\n",
    "params_selector[\"a1\"]  = 0.07\n",
    "params_selector[\"a3\"] = 4\n",
    "params_selector[\"a4\"] = 20\n",
    "params_selector[\"a2\"] = 0.05\n",
    "params_selector[\"eta\"] = 0.0008\n",
    "params_selector[\"alpha_p\"] = 1e-6\n",
    "params_selector[\"plot\"] = True\n",
    "params_selector[\"beta\"] = 0.055\n",
    "params_selector['Wmax'] = 0.11\n",
    "params = {}\n",
    "params['T_pres'] = 100\n",
    "params_SPIKESUM['W_init'] = 9 # 40 for 2 moves, 9 for 4 moves\n",
    "params['n_memory'] = 5\n",
    "params['plot'] = False\n",
    "params['print'] = False\n",
    "params['SpikeSuM_module'] = params_SPIKESUM\n",
    "params['selector_module'] = params_selector"
   ]
  },
  {
   "cell_type": "code",
   "execution_count": 2,
   "metadata": {},
   "outputs": [],
   "source": [
    "with open('params_network.pkl', 'wb') as f:\n",
    "        pickle.dump(params, f, pickle.HIGHEST_PROTOCOL)"
   ]
  },
  {
   "cell_type": "code",
   "execution_count": null,
   "metadata": {},
   "outputs": [],
   "source": []
  }
 ],
 "metadata": {
  "kernelspec": {
   "display_name": "Python 3 (ipykernel)",
   "language": "python",
   "name": "python3"
  },
  "language_info": {
   "codemirror_mode": {
    "name": "ipython",
    "version": 3
   },
   "file_extension": ".py",
   "mimetype": "text/x-python",
   "name": "python",
   "nbconvert_exporter": "python",
   "pygments_lexer": "ipython3",
   "version": "3.9.13"
  }
 },
 "nbformat": 4,
 "nbformat_minor": 2
}
